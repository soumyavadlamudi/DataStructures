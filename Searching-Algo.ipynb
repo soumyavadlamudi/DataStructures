{
 "cells": [
  {
   "cell_type": "code",
   "execution_count": 1,
   "metadata": {},
   "outputs": [],
   "source": [
    "import pandas as pd"
   ]
  },
  {
   "cell_type": "code",
   "execution_count": 11,
   "metadata": {},
   "outputs": [
    {
     "name": "stdout",
     "output_type": "stream",
     "text": [
      "element is found 4\n"
     ]
    }
   ],
   "source": [
    "## Linear Search\n",
    "arr = [1,2,3,4,5,6]\n",
    "\n",
    "def Lsearch(arr, n):\n",
    "    for i in range(0, len(arr)):\n",
    "        if arr[i] == n:\n",
    "            return i\n",
    "    return -1\n",
    "res = Lsearch(arr, n = 5)\n",
    "if res == -1:\n",
    "    print('element not found')\n",
    "else:\n",
    "    print('element is found', res)\n",
    "# time complexity id O(n)"
   ]
  },
  {
   "cell_type": "code",
   "execution_count": 31,
   "metadata": {},
   "outputs": [
    {
     "name": "stdout",
     "output_type": "stream",
     "text": [
      "Element not found\n"
     ]
    }
   ],
   "source": [
    "### Binary search\n",
    "\n",
    "def Bsearch(arr,start, stop, x):\n",
    "    if(stop >= start):\n",
    "        mid = start + (stop -1) //2\n",
    "        if (x == arr[mid]):\n",
    "            return mid\n",
    "        elif x > arr[mid]:\n",
    "            return Bsearch(arr, mid + 1, stop, x)\n",
    "        else:\n",
    "            return Bsearch(arr, start, mid-1, x )\n",
    "    else:\n",
    "        return -1\n",
    "arr = [1,2,3,4,5,6]\n",
    "x = 8\n",
    "res = Bsearch(arr, 0, len(arr) -1, x)\n",
    "if (res > -1):\n",
    "    print('Element found in index % d' % res)\n",
    "else: \n",
    "    print('Element not found')\n",
    "### time complexity is O(logn)"
   ]
  },
  {
   "cell_type": "code",
   "execution_count": 57,
   "metadata": {},
   "outputs": [
    {
     "name": "stdout",
     "output_type": "stream",
     "text": [
      "[2, 6, 8, 13, 18, 19]\n"
     ]
    }
   ],
   "source": [
    "## Bubble sort\n",
    "\n",
    "def BubbleSort(arr):\n",
    "    n = len(arr)\n",
    "    temp = 0\n",
    "    for i in range(n):\n",
    "        for j in range(n-i-1):\n",
    "            if arr[j] > arr[j+1]:\n",
    "                arr[j], arr[j+1] = arr[j+1], arr[j]\n",
    "    return arr\n",
    "\n",
    "our_list = [19, 13, 6, 2, 18, 8]\n",
    "our_list = BubbleSort(our_list)\n",
    "print(our_list)\n",
    "\n",
    "## time complexity is O(n^2)"
   ]
  },
  {
   "cell_type": "code",
   "execution_count": 62,
   "metadata": {},
   "outputs": [
    {
     "name": "stdout",
     "output_type": "stream",
     "text": [
      "Number 55 is at index 10\n"
     ]
    }
   ],
   "source": [
    "import math \n",
    "  \n",
    "def jumpSearch( arr , x , n ): \n",
    "      \n",
    "    # Finding block size to be jumped \n",
    "    step = math.sqrt(n) \n",
    "    # Finding the block where element is \n",
    "    # present (if it is present) \n",
    "    prev = 0\n",
    "    while arr[int(min(step, n)-1)] < x: \n",
    "        prev = step \n",
    "        step += math.sqrt(n) \n",
    "        if prev >= n: \n",
    "            return -1\n",
    "      \n",
    "    # Doing a linear search for x in  \n",
    "    # block beginning with prev. \n",
    "    while arr[int(prev)] < x: \n",
    "        prev += 1\n",
    "          \n",
    "        # If we reached next block or end  \n",
    "        # of array, element is not present. \n",
    "        if prev == min(step, n): \n",
    "            return -1\n",
    "      \n",
    "    # If element is found \n",
    "    if arr[int(prev)] == x: \n",
    "        return prev \n",
    "      \n",
    "    return -1\n",
    "  \n",
    "# Driver code to test function \n",
    "arr = [ 0, 1, 1, 2, 3, 5, 8, 13, 21, \n",
    "    34, 55, 89, 144, 233, 377, 610 ] \n",
    "x = 55\n",
    "n = len(arr) \n",
    "  \n",
    "# Find the index of 'x' using Jump Search \n",
    "index = jumpSearch(arr, x, n) \n",
    "  \n",
    "# Print the index where 'x' is located \n",
    "print(\"Number\" , x, \"is at index\" ,\"%.0f\"%index)\n",
    "\n",
    "#time complexity : for jump to find the block O(sqrt(n)), and then linear search o(n)"
   ]
  },
  {
   "cell_type": "code",
   "execution_count": null,
   "metadata": {},
   "outputs": [],
   "source": []
  }
 ],
 "metadata": {
  "kernelspec": {
   "display_name": "Python 3",
   "language": "python",
   "name": "python3"
  },
  "language_info": {
   "codemirror_mode": {
    "name": "ipython",
    "version": 3
   },
   "file_extension": ".py",
   "mimetype": "text/x-python",
   "name": "python",
   "nbconvert_exporter": "python",
   "pygments_lexer": "ipython3",
   "version": "3.7.3"
  }
 },
 "nbformat": 4,
 "nbformat_minor": 4
}
